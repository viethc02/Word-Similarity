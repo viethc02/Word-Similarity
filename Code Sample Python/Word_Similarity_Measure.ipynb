{
 "cells": [
  {
   "cell_type": "code",
   "execution_count": 1,
   "id": "9e9ce6c3",
   "metadata": {},
   "outputs": [],
   "source": [
    "import io\n",
    "import numpy as np\n",
    "from scipy import spatial"
   ]
  },
  {
   "cell_type": "code",
   "execution_count": 2,
   "id": "a7e599a0",
   "metadata": {},
   "outputs": [],
   "source": [
    "filename = '../word2vec/W2V_150.txt'"
   ]
  },
  {
   "cell_type": "code",
   "execution_count": 3,
   "id": "adfb5a1a",
   "metadata": {},
   "outputs": [],
   "source": [
    "i = 0\n",
    "n = 0\n",
    "size_of_vec = 0\n",
    "with open(filename,'r', encoding='utf-8') as f:\n",
    "    lines = [line.rstrip('\\n') for line in f]"
   ]
  },
  {
   "cell_type": "code",
   "execution_count": 4,
   "id": "05be5d95",
   "metadata": {},
   "outputs": [],
   "source": [
    "n = int(lines[0])\n",
    "size_of_vec = int(lines[1])\n",
    "words = []\n",
    "word2vec = []\n",
    "\n",
    "for num in range(2, n+2):\n",
    "    s = lines[num].split(' ')\n",
    "    word = s[0]\n",
    "    vec = [float(s[i]) for i in range(2, len(s)- 1)]\n",
    "    words.append(word)\n",
    "    word2vec.append(vec)\n"
   ]
  },
  {
   "cell_type": "code",
   "execution_count": 6,
   "id": "542000c1",
   "metadata": {},
   "outputs": [],
   "source": [
    "def cos_sim(vector1, vector2):\n",
    "    cosine_similarity = (2 - spatial.distance.cosine(vector1, vector2))/2\n",
    "    return cosine_similarity"
   ]
  },
  {
   "cell_type": "code",
   "execution_count": 18,
   "id": "0ba98b11",
   "metadata": {
    "scrolled": true
   },
   "outputs": [
    {
     "name": "stdout",
     "output_type": "stream",
     "text": [
      "[('chỉnh_hình', 'luồng', 0.4132957189229851), ('đổ_bê_tông', 'biếu_xén', 0.41357996395190266)]\n",
      "[('thuở', 'thủa', 0.9307344482581148), ('khung_thành', 'cầu_môn', 0.9528645153431913)]\n",
      "[('vượt_tuyến', 'dứt_điểm', 0.6296657788653924), ('trở_lại', 'đảo_ngược', 0.6320276230170812)]\n"
     ]
    }
   ],
   "source": [
    "from operator import itemgetter\n",
    "\n",
    "def test_cosim():\n",
    "    filename1 = '../datasets/ViSim-400/Visim-400.txt'\n",
    "    with open(filename1,'r', encoding='utf-8') as f:\n",
    "        dataset = [line.rstrip('\\n') for line in f]    \n",
    "    rs = []\n",
    "    for i in range(1, len(dataset)):\n",
    "        s = dataset[i].split()\n",
    "        u1 = s[0].strip() # word 1\n",
    "        u2 = s[1].strip() # word 2\n",
    "        if u1 in words:\n",
    "            if u2 in words:\n",
    "                v1 = word2vec[words.index(u1)]\n",
    "                v2 = word2vec[words.index(u2)]\n",
    "                sim = cos_sim(v1, v2)\n",
    "                rs.append((u1, u2,sim))\n",
    "    return rs\n",
    "\n",
    "res = test_cosim()\n",
    "sort_r = sorted(res, key=itemgetter(2))\n",
    "print(sort_r[:2])\n",
    "print(sort_r[-2:])\n",
    "print(sort_r[int(len(res)/2) : (int(len(res)/2) + 2)])"
   ]
  },
  {
   "cell_type": "code",
   "execution_count": 8,
   "id": "e051fe47",
   "metadata": {},
   "outputs": [],
   "source": [
    "def k_nearest_word(word, k):\n",
    "    score = []\n",
    "    v_word = word2vec[words.index(word)]\n",
    "    for i in range(len(words)):\n",
    "        word_check = words[i]\n",
    "        v_check = word2vec[i]\n",
    "        if word_check != word:\n",
    "            score.append((cos_sim(v_word, v_check), word_check))\n",
    "    score.sort(reverse=True)\n",
    "    return score[:k]\n"
   ]
  },
  {
   "cell_type": "code",
   "execution_count": 17,
   "id": "d7ce28a1",
   "metadata": {},
   "outputs": [
    {
     "name": "stdout",
     "output_type": "stream",
     "text": [
      "[(0.8208944017358941, 'con_ruột'), (0.7688234876877631, 'con_riêng'), (0.7531667112446583, 'con_lai'), (0.7460030133643236, 'con_ngoài_giá_thú'), (0.7302358046968331, 'cháu_nội'), (0.7276966270627027, 'cháu_ruột'), (0.7218037125049742, 'con_đầu'), (0.7185112897197076, 'cháu_ngoại'), (0.7124627394095057, 'lê_thành_tám'), (0.7082951393388444, 'cháu_trai')]\n"
     ]
    }
   ],
   "source": [
    "print(k_nearest_word('con_đẻ', 10))"
   ]
  },
  {
   "cell_type": "code",
   "execution_count": null,
   "id": "7c7d445e",
   "metadata": {},
   "outputs": [],
   "source": []
  }
 ],
 "metadata": {
  "kernelspec": {
   "display_name": "Python 3 (ipykernel)",
   "language": "python",
   "name": "python3"
  },
  "language_info": {
   "codemirror_mode": {
    "name": "ipython",
    "version": 3
   },
   "file_extension": ".py",
   "mimetype": "text/x-python",
   "name": "python",
   "nbconvert_exporter": "python",
   "pygments_lexer": "ipython3",
   "version": "3.9.12"
  }
 },
 "nbformat": 4,
 "nbformat_minor": 5
}
