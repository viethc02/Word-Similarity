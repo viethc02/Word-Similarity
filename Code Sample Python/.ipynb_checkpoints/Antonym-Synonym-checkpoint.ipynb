{
 "cells": [
  {
   "cell_type": "code",
   "execution_count": 1,
   "id": "35f4d02c",
   "metadata": {},
   "outputs": [],
   "source": [
    "import pandas as pd\n",
    "import numpy as np\n",
    "import io\n",
    "from sklearn.preprocessing import LabelEncoder\n",
    "from sklearn.ensemble import RandomForestClassifier\n",
    "from sklearn.model_selection import train_test_split\n",
    "from sklearn.metrics import accuracy_score\n",
    "from sklearn.linear_model import LogisticRegression\n",
    "from sklearn.metrics import classification_report"
   ]
  },
  {
   "cell_type": "code",
   "execution_count": 2,
   "id": "c52d2a0c",
   "metadata": {},
   "outputs": [],
   "source": [
    "filename_anym = '../antonym-synonym set/Antonym_vietnamese.txt'"
   ]
  },
  {
   "cell_type": "code",
   "execution_count": 3,
   "id": "6b4462de",
   "metadata": {},
   "outputs": [],
   "source": [
    "with open(filename_anym,'r', encoding='utf-8') as f:\n",
    "    lines = [line.rstrip('\\n') for line in f]"
   ]
  },
  {
   "cell_type": "code",
   "execution_count": 4,
   "id": "08a939c0",
   "metadata": {},
   "outputs": [
    {
     "data": {
      "text/html": [
       "<div>\n",
       "<style scoped>\n",
       "    .dataframe tbody tr th:only-of-type {\n",
       "        vertical-align: middle;\n",
       "    }\n",
       "\n",
       "    .dataframe tbody tr th {\n",
       "        vertical-align: top;\n",
       "    }\n",
       "\n",
       "    .dataframe thead th {\n",
       "        text-align: right;\n",
       "    }\n",
       "</style>\n",
       "<table border=\"1\" class=\"dataframe\">\n",
       "  <thead>\n",
       "    <tr style=\"text-align: right;\">\n",
       "      <th></th>\n",
       "      <th>a</th>\n",
       "      <th>b</th>\n",
       "      <th>label</th>\n",
       "    </tr>\n",
       "  </thead>\n",
       "  <tbody>\n",
       "  </tbody>\n",
       "</table>\n",
       "</div>"
      ],
      "text/plain": [
       "Empty DataFrame\n",
       "Columns: [a, b, label]\n",
       "Index: []"
      ]
     },
     "execution_count": 4,
     "metadata": {},
     "output_type": "execute_result"
    }
   ],
   "source": [
    "df = pd.DataFrame(columns= ['a','b','label'])\n",
    "df"
   ]
  },
  {
   "cell_type": "code",
   "execution_count": 5,
   "id": "2654005e",
   "metadata": {},
   "outputs": [],
   "source": [
    "i = 0\n",
    "for line in lines:\n",
    "    s = line.split()\n",
    "    u1 = s[0].strip() # word 1\n",
    "    u2 = s[1].strip() # word 2\n",
    "    df.loc[i] = (u1, u2, 0)\n",
    "    i += 1\n",
    "    #df.append(df2, ignore_index=True)"
   ]
  },
  {
   "cell_type": "code",
   "execution_count": 6,
   "id": "9bdbedd1",
   "metadata": {},
   "outputs": [
    {
     "data": {
      "text/html": [
       "<div>\n",
       "<style scoped>\n",
       "    .dataframe tbody tr th:only-of-type {\n",
       "        vertical-align: middle;\n",
       "    }\n",
       "\n",
       "    .dataframe tbody tr th {\n",
       "        vertical-align: top;\n",
       "    }\n",
       "\n",
       "    .dataframe thead th {\n",
       "        text-align: right;\n",
       "    }\n",
       "</style>\n",
       "<table border=\"1\" class=\"dataframe\">\n",
       "  <thead>\n",
       "    <tr style=\"text-align: right;\">\n",
       "      <th></th>\n",
       "      <th>a</th>\n",
       "      <th>b</th>\n",
       "      <th>label</th>\n",
       "    </tr>\n",
       "  </thead>\n",
       "  <tbody>\n",
       "    <tr>\n",
       "      <th>0</th>\n",
       "      <td>ác</td>\n",
       "      <td>hiền</td>\n",
       "      <td>0</td>\n",
       "    </tr>\n",
       "    <tr>\n",
       "      <th>1</th>\n",
       "      <td>ác</td>\n",
       "      <td>thiện</td>\n",
       "      <td>0</td>\n",
       "    </tr>\n",
       "    <tr>\n",
       "      <th>2</th>\n",
       "      <td>ác_cảm</td>\n",
       "      <td>thiện_cảm</td>\n",
       "      <td>0</td>\n",
       "    </tr>\n",
       "    <tr>\n",
       "      <th>3</th>\n",
       "      <td>ác_độc</td>\n",
       "      <td>hiền_lành</td>\n",
       "      <td>0</td>\n",
       "    </tr>\n",
       "    <tr>\n",
       "      <th>4</th>\n",
       "      <td>ác_độc</td>\n",
       "      <td>hiền_từ</td>\n",
       "      <td>0</td>\n",
       "    </tr>\n",
       "    <tr>\n",
       "      <th>...</th>\n",
       "      <td>...</td>\n",
       "      <td>...</td>\n",
       "      <td>...</td>\n",
       "    </tr>\n",
       "    <tr>\n",
       "      <th>1995</th>\n",
       "      <td>bẩn_thỉu</td>\n",
       "      <td>sạch_sẽ</td>\n",
       "      <td>0</td>\n",
       "    </tr>\n",
       "    <tr>\n",
       "      <th>1996</th>\n",
       "      <td>bận</td>\n",
       "      <td>rảnh</td>\n",
       "      <td>0</td>\n",
       "    </tr>\n",
       "    <tr>\n",
       "      <th>1997</th>\n",
       "      <td>bận</td>\n",
       "      <td>rảnh_rang</td>\n",
       "      <td>0</td>\n",
       "    </tr>\n",
       "    <tr>\n",
       "      <th>1998</th>\n",
       "      <td>bận</td>\n",
       "      <td>rảnh_rỗi</td>\n",
       "      <td>0</td>\n",
       "    </tr>\n",
       "    <tr>\n",
       "      <th>1999</th>\n",
       "      <td>bận</td>\n",
       "      <td>rỗi</td>\n",
       "      <td>0</td>\n",
       "    </tr>\n",
       "  </tbody>\n",
       "</table>\n",
       "<p>2000 rows × 3 columns</p>\n",
       "</div>"
      ],
      "text/plain": [
       "             a          b  label\n",
       "0           ác       hiền      0\n",
       "1           ác      thiện      0\n",
       "2       ác_cảm  thiện_cảm      0\n",
       "3       ác_độc  hiền_lành      0\n",
       "4       ác_độc    hiền_từ      0\n",
       "...        ...        ...    ...\n",
       "1995  bẩn_thỉu    sạch_sẽ      0\n",
       "1996       bận       rảnh      0\n",
       "1997       bận  rảnh_rang      0\n",
       "1998       bận   rảnh_rỗi      0\n",
       "1999       bận        rỗi      0\n",
       "\n",
       "[2000 rows x 3 columns]"
      ]
     },
     "execution_count": 6,
     "metadata": {},
     "output_type": "execute_result"
    }
   ],
   "source": [
    "df"
   ]
  },
  {
   "cell_type": "code",
   "execution_count": 7,
   "id": "b01f7716",
   "metadata": {},
   "outputs": [],
   "source": [
    "filename_sym = '../antonym-synonym set/Synonym_vietnamese.txt'"
   ]
  },
  {
   "cell_type": "code",
   "execution_count": 8,
   "id": "956d6747",
   "metadata": {},
   "outputs": [],
   "source": [
    "df_sym = pd.DataFrame(columns= ['a','b','label'])\n",
    "with open(filename_sym,'r', encoding='utf-8') as f:\n",
    "    lines1 = [line.rstrip('\\n') for line in f]"
   ]
  },
  {
   "cell_type": "code",
   "execution_count": 9,
   "id": "1db9590d",
   "metadata": {},
   "outputs": [
    {
     "name": "stderr",
     "output_type": "stream",
     "text": [
      "C:\\Users\\Viet\\AppData\\Local\\Temp\\ipykernel_3560\\2589219976.py:10: FutureWarning: The frame.append method is deprecated and will be removed from pandas in a future version. Use pandas.concat instead.\n",
      "  df = df.append(df_sample)\n"
     ]
    }
   ],
   "source": [
    "for line in lines1:\n",
    "    s = line.split()\n",
    "    if len(s) >= 2:\n",
    "        u1 = s[0].strip() # word 1\n",
    "        u2 = s[1].strip() # word 2\n",
    "        df_sym.loc[i] = (u1, u2, 1)\n",
    "        i += 1\n",
    "    #df.append(df2, ignore_index=True)\n",
    "df_sample = df_sym.sample(2000, random_state=10)\n",
    "df = df.append(df_sample)"
   ]
  },
  {
   "cell_type": "code",
   "execution_count": 10,
   "id": "b15c4af2",
   "metadata": {},
   "outputs": [
    {
     "data": {
      "text/html": [
       "<div>\n",
       "<style scoped>\n",
       "    .dataframe tbody tr th:only-of-type {\n",
       "        vertical-align: middle;\n",
       "    }\n",
       "\n",
       "    .dataframe tbody tr th {\n",
       "        vertical-align: top;\n",
       "    }\n",
       "\n",
       "    .dataframe thead th {\n",
       "        text-align: right;\n",
       "    }\n",
       "</style>\n",
       "<table border=\"1\" class=\"dataframe\">\n",
       "  <thead>\n",
       "    <tr style=\"text-align: right;\">\n",
       "      <th></th>\n",
       "      <th>a</th>\n",
       "      <th>b</th>\n",
       "      <th>label</th>\n",
       "    </tr>\n",
       "  </thead>\n",
       "  <tbody>\n",
       "    <tr>\n",
       "      <th>0</th>\n",
       "      <td>ác</td>\n",
       "      <td>hiền</td>\n",
       "      <td>0</td>\n",
       "    </tr>\n",
       "    <tr>\n",
       "      <th>1</th>\n",
       "      <td>ác</td>\n",
       "      <td>thiện</td>\n",
       "      <td>0</td>\n",
       "    </tr>\n",
       "    <tr>\n",
       "      <th>2</th>\n",
       "      <td>ác_cảm</td>\n",
       "      <td>thiện_cảm</td>\n",
       "      <td>0</td>\n",
       "    </tr>\n",
       "    <tr>\n",
       "      <th>3</th>\n",
       "      <td>ác_độc</td>\n",
       "      <td>hiền_lành</td>\n",
       "      <td>0</td>\n",
       "    </tr>\n",
       "    <tr>\n",
       "      <th>4</th>\n",
       "      <td>ác_độc</td>\n",
       "      <td>hiền_từ</td>\n",
       "      <td>0</td>\n",
       "    </tr>\n",
       "    <tr>\n",
       "      <th>...</th>\n",
       "      <td>...</td>\n",
       "      <td>...</td>\n",
       "      <td>...</td>\n",
       "    </tr>\n",
       "    <tr>\n",
       "      <th>13491</th>\n",
       "      <td>xôn_xao</td>\n",
       "      <td>xôn_xang</td>\n",
       "      <td>1</td>\n",
       "    </tr>\n",
       "    <tr>\n",
       "      <th>5694</th>\n",
       "      <td>đằng_hắng</td>\n",
       "      <td>tằng_hắng</td>\n",
       "      <td>1</td>\n",
       "    </tr>\n",
       "    <tr>\n",
       "      <th>4183</th>\n",
       "      <td>chọc_giận</td>\n",
       "      <td>trêu_ngươi</td>\n",
       "      <td>1</td>\n",
       "    </tr>\n",
       "    <tr>\n",
       "      <th>2368</th>\n",
       "      <td>bảnh</td>\n",
       "      <td>điển</td>\n",
       "      <td>1</td>\n",
       "    </tr>\n",
       "    <tr>\n",
       "      <th>2016</th>\n",
       "      <td>ác_liệt</td>\n",
       "      <td>dữ_dội</td>\n",
       "      <td>1</td>\n",
       "    </tr>\n",
       "  </tbody>\n",
       "</table>\n",
       "<p>4000 rows × 3 columns</p>\n",
       "</div>"
      ],
      "text/plain": [
       "               a           b  label\n",
       "0             ác        hiền      0\n",
       "1             ác       thiện      0\n",
       "2         ác_cảm   thiện_cảm      0\n",
       "3         ác_độc   hiền_lành      0\n",
       "4         ác_độc     hiền_từ      0\n",
       "...          ...         ...    ...\n",
       "13491    xôn_xao    xôn_xang      1\n",
       "5694   đằng_hắng   tằng_hắng      1\n",
       "4183   chọc_giận  trêu_ngươi      1\n",
       "2368        bảnh        điển      1\n",
       "2016     ác_liệt      dữ_dội      1\n",
       "\n",
       "[4000 rows x 3 columns]"
      ]
     },
     "execution_count": 10,
     "metadata": {},
     "output_type": "execute_result"
    }
   ],
   "source": [
    "df"
   ]
  },
  {
   "cell_type": "code",
   "execution_count": 12,
   "id": "5bca7f30",
   "metadata": {},
   "outputs": [],
   "source": [
    "import hashlib\n",
    "from typing import Tuple\n",
    "\n",
    "from sklearn.base import BaseEstimator, TransformerMixin\n",
    "\n",
    "\n",
    "def hash_modulo(val, mod):\n",
    "    md5 = hashlib.md5()  # can be other deterministic hash functions\n",
    "    md5.update(str(val).encode())\n",
    "    return int(md5.hexdigest(), 16) % mod\n",
    "\n",
    "\n",
    "class FeatureHasher(BaseEstimator, TransformerMixin):\n",
    "    def __init__(self, num_buckets: int):\n",
    "        self.num_buckets = num_buckets\n",
    "\n",
    "    def fit(self, X: pd.Series):\n",
    "        return self\n",
    "\n",
    "    def transform(self, X: pd.Series):\n",
    "        return X.apply(lambda x: hash_modulo(x, self.num_buckets))\n"
   ]
  },
  {
   "cell_type": "code",
   "execution_count": 13,
   "id": "1236da7e",
   "metadata": {},
   "outputs": [],
   "source": [
    "fh = FeatureHasher(num_buckets=4000)\n",
    "df['a'] = fh.fit_transform(df['a'])\n",
    "df['b'] = fh.transform(df['b'])"
   ]
  },
  {
   "cell_type": "code",
   "execution_count": 15,
   "id": "feb1975e",
   "metadata": {},
   "outputs": [],
   "source": [
    "X = df.drop(columns=['label'])\n",
    "y = df['label']\n",
    "#X_train, X_test, y_train, y_test = train_test_split(X, y, test_size=0.3, random_state=40)"
   ]
  },
  {
   "cell_type": "code",
   "execution_count": 16,
   "id": "3528ff3e",
   "metadata": {},
   "outputs": [
    {
     "data": {
      "text/plain": [
       "RandomForestClassifier()"
      ]
     },
     "execution_count": 16,
     "metadata": {},
     "output_type": "execute_result"
    }
   ],
   "source": [
    "clf = RandomForestClassifier()\n",
    "clf.fit(X, y)"
   ]
  },
  {
   "cell_type": "code",
   "execution_count": 17,
   "id": "bf9345dd",
   "metadata": {},
   "outputs": [],
   "source": [
    "filename_test1 = '../datasets/ViCon-400/400_noun_pairs.txt'\n",
    "filename_test2 = '../datasets/ViCon-400/400_verb_pairs.txt'\n",
    "filename_test3 = '../datasets/ViCon-400/600_adj_pairs.txt'\n",
    "df_test = pd.DataFrame(columns= ['a','b','label'])\n",
    "i = 0\n",
    "def get_Test(filename):\n",
    "    global i\n",
    "    with open(filename,'r', encoding='utf-8') as f:\n",
    "        lines = [line.rstrip('\\n') for line in f]\n",
    "    for line in lines:\n",
    "        s = line.split()\n",
    "        if s[0] != 'Word1':\n",
    "            u1 = s[0].strip() # word 1\n",
    "            u2 = s[1].strip() # word 2\n",
    "            u3 = s[2].strip()\n",
    "            if u3 == 'ANT':\n",
    "                label = 0\n",
    "            else:\n",
    "                label = 1\n",
    "            df_test.loc[i] = (u1, u2, label)\n",
    "            i += 1\n",
    "get_Test(filename_test1)\n",
    "get_Test(filename_test2)\n",
    "get_Test(filename_test3)"
   ]
  },
  {
   "cell_type": "code",
   "execution_count": 19,
   "id": "358af3ca",
   "metadata": {},
   "outputs": [],
   "source": [
    "df_test['a'] = fh.transform(df_test['a'])\n",
    "df_test['b'] = fh.transform(df_test['b'])"
   ]
  },
  {
   "cell_type": "code",
   "execution_count": 20,
   "id": "769a020b",
   "metadata": {},
   "outputs": [],
   "source": [
    "X_test = df_test.drop(columns=['label'])\n",
    "y_test = df_test['label']"
   ]
  },
  {
   "cell_type": "code",
   "execution_count": 21,
   "id": "93e3a1ce",
   "metadata": {},
   "outputs": [
    {
     "data": {
      "text/plain": [
       "0.8614285714285714"
      ]
     },
     "execution_count": 21,
     "metadata": {},
     "output_type": "execute_result"
    }
   ],
   "source": [
    "pred = clf.predict(X_test)\n",
    "accuracy_score(pred, y_test)"
   ]
  },
  {
   "cell_type": "code",
   "execution_count": 22,
   "id": "bcd9eec5",
   "metadata": {
    "scrolled": true
   },
   "outputs": [
    {
     "name": "stdout",
     "output_type": "stream",
     "text": [
      "              precision    recall  f1-score   support\n",
      "\n",
      "           0       0.78      1.00      0.88       700\n",
      "           1       1.00      0.72      0.84       700\n",
      "\n",
      "    accuracy                           0.86      1400\n",
      "   macro avg       0.89      0.86      0.86      1400\n",
      "weighted avg       0.89      0.86      0.86      1400\n",
      "\n"
     ]
    }
   ],
   "source": [
    "print(classification_report(y_test, pred))"
   ]
  },
  {
   "cell_type": "code",
   "execution_count": null,
   "id": "6f35da2f",
   "metadata": {},
   "outputs": [],
   "source": []
  }
 ],
 "metadata": {
  "kernelspec": {
   "display_name": "Python 3 (ipykernel)",
   "language": "python",
   "name": "python3"
  },
  "language_info": {
   "codemirror_mode": {
    "name": "ipython",
    "version": 3
   },
   "file_extension": ".py",
   "mimetype": "text/x-python",
   "name": "python",
   "nbconvert_exporter": "python",
   "pygments_lexer": "ipython3",
   "version": "3.9.12"
  }
 },
 "nbformat": 4,
 "nbformat_minor": 5
}
